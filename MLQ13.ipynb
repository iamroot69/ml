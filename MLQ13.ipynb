{
  "nbformat": 4,
  "nbformat_minor": 0,
  "metadata": {
    "colab": {
      "provenance": []
    },
    "kernelspec": {
      "name": "python3",
      "display_name": "Python 3"
    },
    "language_info": {
      "name": "python"
    }
  },
  "cells": [
    {
      "cell_type": "markdown",
      "source": [
        "RAJ RAUNAK KUMAR 20HCS4148"
      ],
      "metadata": {
        "id": "nZpgcJi9aD9B"
      }
    },
    {
      "cell_type": "code",
      "execution_count": 1,
      "metadata": {
        "id": "xefHyOP_aCsM"
      },
      "outputs": [],
      "source": [
        "import numpy as np\n",
        "import matplotlib.pyplot as plt\n",
        "\n",
        "# AND problem ke sath 3 variables\n",
        "# Inputs ke sath corresponding output for AND operation\n",
        "X = np.array([\n",
        "    [0, 0, 0],  # AND with 3 variables, all zero\n",
        "    [0, 0, 1],\n",
        "    [0, 1, 0],\n",
        "    [0, 1, 1],\n",
        "    [1, 0, 0],\n",
        "    [1, 0, 1],\n",
        "    [1, 1, 0],\n",
        "    [1, 1, 1]  # AND with 3 variables, all one\n",
        "])\n",
        "\n",
        "y = np.array([\n",
        "    0,  # AND result for inputs 0, 0, 0\n",
        "    0,\n",
        "    0,\n",
        "    0,\n",
        "    0,\n",
        "    0,\n",
        "    0,\n",
        "    1   # AND result for inputs 1, 1, 1\n",
        "])\n"
      ]
    },
    {
      "cell_type": "code",
      "source": [
        "# Perceptron model ka class definition\n",
        "class Perceptron:\n",
        "    def __init__(self, learning_rate=0.1, iterations=100):\n",
        "        self.learning_rate = learning_rate  # Learning rate set karna\n",
        "        self.iterations = iterations  # Iterations set karna\n",
        "        self.weights = None  # Weights initialize\n",
        "        self.bias = None  # Bias initialize\n",
        "\n",
        "    def step_function(self, z):\n",
        "        return 1 if z >= 0 else 0  # Step function for perceptron\n",
        "\n",
        "    def fit(self, X, y):\n",
        "        m, n = X.shape  # Data ka shape (samples, features)\n",
        "        self.weights = np.zeros(n)  # Weights ko zero se initialize karna\n",
        "        self.bias = 0  # Bias ko initialize karna\n",
        "\n",
        "        for _ in range(self.iterations):\n",
        "            for xi, target in zip(X, y):  # Har sample ke liye\n",
        "                linear_output = np.dot(xi, self.weights) + self.bias  # Linear combination\n",
        "                prediction = self.step_function(linear_output)  # Step function ka output\n",
        "                error = target - prediction  # Error ko calculate karna\n",
        "\n",
        "                # Weights aur bias ko update karna\n",
        "                self.weights += self.learning_rate * error * xi  # Weights ka update\n",
        "                self.bias += self.learning_rate * error  # Bias ka update\n",
        "\n",
        "    def predict(self, X):\n",
        "        # Predictions generate karna\n",
        "        linear_output = np.dot(X, self.weights) + self.bias  # Linear combination\n",
        "        return np.array([self.step_function(z) for z in linear_output])  # Step function ke sath predictions\n"
      ],
      "metadata": {
        "id": "IEWFRxniaLdW"
      },
      "execution_count": 2,
      "outputs": []
    },
    {
      "cell_type": "code",
      "source": [
        "# Perceptron model ko train karna\n",
        "perceptron = Perceptron(learning_rate=0.1, iterations=10)  # Learning rate aur iterations set karna\n",
        "perceptron.fit(X, y)  # Model ko training data par train karna\n",
        "\n",
        "# Predictions generate karna\n",
        "y_pred = perceptron.predict(X)  # Perceptron se predictions\n",
        "accuracy = np.mean(y_pred == y)  # Accuracy ko calculate karna\n",
        "\n",
        "print(\"Trained Perceptron Weights:\", perceptron.weights)  # Weights ko display karna\n",
        "print(\"Trained Perceptron Bias:\", perceptron.bias)  # Bias ko display karna\n",
        "print(\"Accuracy on Training Data:\", accuracy)  # Training data ka accuracy\n"
      ],
      "metadata": {
        "colab": {
          "base_uri": "https://localhost:8080/"
        },
        "id": "ueH8c7r3aNol",
        "outputId": "bf41c2b8-94f9-4151-bf51-1947c7f69cc4"
      },
      "execution_count": 3,
      "outputs": [
        {
          "output_type": "stream",
          "name": "stdout",
          "text": [
            "Trained Perceptron Weights: [0.1 0.1 0.1]\n",
            "Trained Perceptron Bias: -0.20000000000000004\n",
            "Accuracy on Training Data: 1.0\n"
          ]
        }
      ]
    }
  ]
}