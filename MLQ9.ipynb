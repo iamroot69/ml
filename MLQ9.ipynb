{
  "nbformat": 4,
  "nbformat_minor": 0,
  "metadata": {
    "colab": {
      "provenance": []
    },
    "kernelspec": {
      "name": "python3",
      "display_name": "Python 3"
    },
    "language_info": {
      "name": "python"
    }
  },
  "cells": [
    {
      "cell_type": "markdown",
      "source": [
        "RAJ RAUNAK KUMAR 20HCS4148"
      ],
      "metadata": {
        "id": "6bGCn_IEXBC3"
      }
    },
    {
      "cell_type": "code",
      "execution_count": 1,
      "metadata": {
        "id": "-wRaQu2zW-up"
      },
      "outputs": [],
      "source": [
        "import numpy as np\n",
        "import pandas as pd\n",
        "from sklearn.datasets import load_iris\n",
        "from sklearn.model_selection import train_test_split\n",
        "from sklearn.metrics import confusion_matrix\n",
        "\n",
        "# Iris dataset ko load karna\n",
        "iris = load_iris()  # Iris dataset ko load karna\n",
        "X = iris.data  # Features\n",
        "y = (iris.target == 2).astype(int)  # Labels (1 for 'virginica', 0 for others)\n",
        "\n",
        "# Dataset ko training aur testing sets mein divide karna\n",
        "X_train, X_test, y_train, y_test = train_test_split(X, y, test_size=0.2, random_state=42)  # 80-20 split\n"
      ]
    },
    {
      "cell_type": "code",
      "source": [
        "# Sigmoid function define karna\n",
        "def sigmoid(z):\n",
        "    return 1 / (1 + np.exp(-z))  # Logistic function\n",
        "\n",
        "# Custom logistic regression ko train karna\n",
        "def logistic_regression_ols(X, y, learning_rate=0.01, iterations=1000):\n",
        "    m, n = X.shape  # Training data ka shape\n",
        "    X = np.c_[np.ones(m), X]  # Intercept ke liye column of ones\n",
        "    beta = np.zeros(n + 1)  # Initial weights\n",
        "    for _ in range(iterations):\n",
        "        z = np.dot(X, beta)  # Linear combination\n",
        "        predictions = sigmoid(z)  # Predictions using logistic function\n",
        "        error = predictions - y  # Prediction error\n",
        "        gradient = np.dot(X.T, error) / m  # Gradient descent ka step\n",
        "        beta -= learning_rate * gradient  # Weights ko update karna\n",
        "    return beta  # Trained coefficients return karna\n"
      ],
      "metadata": {
        "id": "GnrEKBd5XMHW"
      },
      "execution_count": 2,
      "outputs": []
    },
    {
      "cell_type": "code",
      "source": [
        "# Custom logistic regression ko train karna\n",
        "beta = logistic_regression_ols(X_train, y_train, learning_rate=0.01, iterations=1000)\n",
        "\n",
        "# Confusion matrix ko calculate karna\n",
        "X_test_intercept = np.c_[np.ones(X_test.shape[0]), X_test]  # Ones ka column add karna\n",
        "test_predictions = (sigmoid(np.dot(X_test_intercept, beta)) >= 0.5).astype(int)  # Predictions\n",
        "conf_matrix = confusion_matrix(y_test, test_predictions)  # Confusion matrix ko calculate karna\n",
        "\n",
        "print(\"Confusion Matrix:\")  # Confusion matrix ko display karna\n",
        "print(conf_matrix)\n"
      ],
      "metadata": {
        "colab": {
          "base_uri": "https://localhost:8080/"
        },
        "id": "q5eZ1gFHXOpr",
        "outputId": "92ab8c0e-509c-4153-dafc-113aaf9c5fa3"
      },
      "execution_count": 3,
      "outputs": [
        {
          "output_type": "stream",
          "name": "stdout",
          "text": [
            "Confusion Matrix:\n",
            "[[18  1]\n",
            " [ 0 11]]\n"
          ]
        }
      ]
    },
    {
      "cell_type": "code",
      "source": [
        "# Sensitivity aur specificity ko calculate karna\n",
        "true_positives = conf_matrix[1, 1]  # Confusion matrix ka TP\n",
        "false_negatives = conf_matrix[1, 0]  # Confusion matrix ka FN\n",
        "false_positives = conf_matrix[0, 1]  # Confusion matrix ka FP\n",
        "true_negatives = conf_matrix[0, 0]  # Confusion matrix ka TN\n",
        "\n",
        "sensitivity = true_positives / (true_positives + false_negatives)  # Sensitivity\n",
        "specificity = true_negatives / (true_negatives + false_positives)  # Specificity\n",
        "\n",
        "print(f\"Sensitivity: {sensitivity:.2f}\")  # Sensitivity ko display karna\n",
        "print(f\"Specificity: {specificity:.2f}\")  # Specificity ko display karna\n"
      ],
      "metadata": {
        "colab": {
          "base_uri": "https://localhost:8080/"
        },
        "id": "5kkFgIKbXRHf",
        "outputId": "67b217d6-41e3-41fa-c192-8d72c311f0a5"
      },
      "execution_count": 4,
      "outputs": [
        {
          "output_type": "stream",
          "name": "stdout",
          "text": [
            "Sensitivity: 1.00\n",
            "Specificity: 0.95\n"
          ]
        }
      ]
    }
  ]
}