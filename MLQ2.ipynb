{
  "nbformat": 4,
  "nbformat_minor": 0,
  "metadata": {
    "colab": {
      "provenance": []
    },
    "kernelspec": {
      "name": "python3",
      "display_name": "Python 3"
    },
    "language_info": {
      "name": "python"
    }
  },
  "cells": [
    {
      "cell_type": "markdown",
      "source": [
        "RAJ RAUNAK KUMAR 20HCS4148"
      ],
      "metadata": {
        "id": "CF2t_3eIMLOW"
      }
    },
    {
      "cell_type": "code",
      "execution_count": 2,
      "metadata": {
        "colab": {
          "base_uri": "https://localhost:8080/"
        },
        "id": "TfTRIlutKb47",
        "outputId": "17ba107e-be9e-4a0d-a4be-1a4dd4e6e036"
      },
      "outputs": [
        {
          "output_type": "stream",
          "name": "stdout",
          "text": [
            "Training Accuracy: 0.95\n",
            "Testing Accuracy: 1.0\n",
            "Confusion Matrix:\n",
            "[[10  0  0]\n",
            " [ 0  9  0]\n",
            " [ 0  0 11]]\n"
          ]
        }
      ],
      "source": [
        "import numpy as np\n",
        "import matplotlib.pyplot as plt\n",
        "import pandas as pd\n",
        "from sklearn.model_selection import train_test_split\n",
        "from sklearn.naive_bayes import GaussianNB\n",
        "from sklearn.metrics import accuracy_score, confusion_matrix\n",
        "\n",
        "# Step 1: Load and Prepare the Dataset\n",
        "# Dataset ko load aur prepare karna\n",
        "dataset = pd.read_csv('https://raw.githubusercontent.com/mk-gurucharan/Classification/master/IrisDataset.csv')  # CSV se data load karna\n",
        "X = dataset.drop('species', axis=1)  # Features ko alag karna (species ko hata kar)\n",
        "y = dataset['species']  # Target variable ko define karna (species)\n",
        "\n",
        "# Step 2: Split the Dataset\n",
        "# Dataset ko training aur testing set mein divide karna\n",
        "X_train, X_test, y_train, y_test = train_test_split(X, y, test_size=0.2, random_state=42)  # 80-20 split\n",
        "\n",
        "# Step 3: Train the Gaussian Naive Bayes Classifier\n",
        "# Gaussian Naive Bayes classifier ko train karna\n",
        "naive_bayes_classifier = GaussianNB()  # Classifier ko initialize karna\n",
        "naive_bayes_classifier.fit(X_train, y_train)  # Training data par classifier ko train karna\n",
        "\n",
        "# Step 4: Predict and Evaluate\n",
        "# Training aur testing set par prediction karna aur evaluation karna\n",
        "y_pred_train = naive_bayes_classifier.predict(X_train)  # Training set par prediction\n",
        "y_pred_test = naive_bayes_classifier.predict(X_test)  # Testing set par prediction\n",
        "\n",
        "# Calculate Accuracy\n",
        "# Accuracy ko calculate karna\n",
        "train_accuracy = accuracy_score(y_train, y_pred_train)  # Training set ki accuracy\n",
        "test_accuracy = accuracy_score(y_test, y_pred_test)  # Testing set ki accuracy\n",
        "\n",
        "# Display Accuracy and Confusion Matrix\n",
        "# Accuracy aur Confusion Matrix ko display karna\n",
        "print(\"Training Accuracy:\", train_accuracy)  # Training accuracy ka output\n",
        "print(\"Testing Accuracy:\", test_accuracy)  # Testing accuracy ka output\n",
        "print(\"Confusion Matrix:\")  # Confusion matrix ka output\n",
        "print(confusion_matrix(y_test, y_pred_test))  # Confusion matrix ko display karna\n"
      ]
    }
  ]
}