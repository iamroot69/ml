{
  "nbformat": 4,
  "nbformat_minor": 0,
  "metadata": {
    "colab": {
      "provenance": []
    },
    "kernelspec": {
      "name": "python3",
      "display_name": "Python 3"
    },
    "language_info": {
      "name": "python"
    }
  },
  "cells": [
    {
      "cell_type": "markdown",
      "source": [
        "RAJ RAUNAK KUMAR20HCS4148"
      ],
      "metadata": {
        "id": "SrCVseZyNfJP"
      }
    },
    {
      "cell_type": "code",
      "execution_count": 1,
      "metadata": {
        "colab": {
          "base_uri": "https://localhost:8080/"
        },
        "id": "XAgM2sNnNeDp",
        "outputId": "9ea67ea4-fccd-45a3-d835-b03a836ebb27"
      },
      "outputs": [
        {
          "output_type": "stream",
          "name": "stdout",
          "text": [
            "Best value of k: 1\n",
            "Training Accuracy: 1.00\n",
            "Validation Accuracy: 1.00\n",
            "Testing Accuracy: 0.96\n",
            "Training Confusion Matrix:\n",
            "[[31  0  0]\n",
            " [ 0 37  0]\n",
            " [ 0  0 37]]\n",
            "\n",
            "Validation Confusion Matrix:\n",
            "[[13  0  0]\n",
            " [ 0  3  0]\n",
            " [ 0  0  6]]\n",
            "\n",
            "Testing Confusion Matrix:\n",
            "[[6 0 0]\n",
            " [0 9 1]\n",
            " [0 0 7]]\n"
          ]
        }
      ],
      "source": [
        "# Zaroori libraries ko import karna\n",
        "import numpy as np\n",
        "from sklearn.datasets import load_iris\n",
        "from sklearn.neighbors import KNeighborsClassifier\n",
        "from sklearn.model_selection import train_test_split\n",
        "from sklearn.preprocessing import StandardScaler\n",
        "from sklearn.metrics import accuracy_score, confusion_matrix\n",
        "\n",
        "# Iris dataset ko load karna\n",
        "iris = load_iris()\n",
        "X = iris.data  # Features\n",
        "y = iris.target  # Target labels\n",
        "\n",
        "# Dataset ko training, validation, aur testing sets mein divide karna\n",
        "X_train, X_test, y_train, y_test = train_test_split(X, y, test_size=0.3, random_state=42)  # 70-30 split\n",
        "X_val, X_test, y_val, y_test = train_test_split(X_test, y_test, test_size=0.5, random_state=42)  # Validation aur testing ko 50-50 split\n",
        "\n",
        "# Dataset ko normalize karna\n",
        "scaler = StandardScaler()  # StandardScaler ka object banate hain\n",
        "X_train_norm = scaler.fit_transform(X_train)  # Training set ko normalize karna\n",
        "X_val_norm = scaler.transform(X_val)  # Validation set ko normalize karna\n",
        "X_test_norm = scaler.transform(X_test)  # Testing set ko normalize karna\n",
        "\n",
        "# Sabse acchi k value dhundhna\n",
        "best_k = 0\n",
        "best_accuracy = 0\n",
        "for k in range(1, 26):  # 1 se 25 tak k ko test karna\n",
        "    knn = KNeighborsClassifier(n_neighbors=k)  # KNN classifier ko banate hain\n",
        "    knn.fit(X_train_norm, y_train)  # Classifier ko training set par train karna\n",
        "    val_accuracy = accuracy_score(y_val, knn.predict(X_val_norm))  # Validation accuracy ko measure karna\n",
        "    if val_accuracy > best_accuracy:  # Agar yeh best se zyada hai\n",
        "        best_k = k  # Yeh best k hai\n",
        "        best_accuracy = val_accuracy  # Best accuracy update karna\n",
        "\n",
        "print(f\"Best value of k: {best_k}\")\n",
        "\n",
        "# Best k ke sath model ko train karna\n",
        "knn = KNeighborsClassifier(n_neighbors=best_k)  # Best k ke sath KNN classifier\n",
        "knn.fit(X_train_norm, y_train)  # Classifier ko training set par train karna\n",
        "\n",
        "# Model ka evaluation karna\n",
        "train_accuracy = accuracy_score(y_train, knn.predict(X_train_norm))  # Training set ki accuracy\n",
        "val_accuracy = accuracy_score(y_val, knn.predict(X_val_norm))  # Validation set ki accuracy\n",
        "test_accuracy = accuracy_score(y_test, knn.predict(X_test_norm))  # Testing set ki accuracy\n",
        "\n",
        "print(f\"Training Accuracy: {train_accuracy:.2f}\")  # Training accuracy ko print karna\n",
        "print(f\"Validation Accuracy: {val_accuracy:.2f}\")  # Validation accuracy ko print karna\n",
        "print(f\"Testing Accuracy: {test_accuracy:.2f}\")  # Testing accuracy ko print karna\n",
        "\n",
        "# Confusion matrix ko display karna\n",
        "train_cm = confusion_matrix(y_train, knn.predict(X_train_norm))  # Training set ka confusion matrix\n",
        "val_cm = confusion_matrix(y_val, knn.predict(X_val_norm))  # Validation set ka confusion matrix\n",
        "test_cm = confusion_matrix(y_test, knn.predict(X_test_norm))  # Testing set ka confusion matrix\n",
        "\n",
        "print(\"Training Confusion Matrix:\")  # Training set ka confusion matrix\n",
        "print(train_cm)  # Display training confusion matrix\n",
        "print(\"\\nValidation Confusion Matrix:\")  # Validation set ka confusion matrix\n",
        "print(val_cm)  # Display validation confusion matrix\n",
        "print(\"\\nTesting Confusion Matrix:\")  # Testing set ka confusion matrix\n",
        "print(test_cm)  # Display testing confusion matrix\n"
      ]
    }
  ]
}